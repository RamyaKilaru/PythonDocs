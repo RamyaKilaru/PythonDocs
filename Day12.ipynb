{
 "cells": [
  {
   "cell_type": "code",
   "execution_count": 3,
   "metadata": {},
   "outputs": [],
   "source": [
    "user_account = {'username':'codetraining','first_name':'code','last_name':'training','pwd':12345}"
   ]
  },
  {
   "cell_type": "code",
   "execution_count": 4,
   "metadata": {},
   "outputs": [
    {
     "name": "stdout",
     "output_type": "stream",
     "text": [
      "{'username': 'codetraining', 'first_name': 'code', 'last_name': 'training', 'pwd': 12345}\n"
     ]
    }
   ],
   "source": [
    "print(user_account)"
   ]
  },
  {
   "cell_type": "code",
   "execution_count": 5,
   "metadata": {},
   "outputs": [
    {
     "name": "stdout",
     "output_type": "stream",
     "text": [
      "username\n",
      "codetraining\n",
      "first_name\n",
      "code\n",
      "last_name\n",
      "training\n",
      "pwd\n",
      "12345\n"
     ]
    }
   ],
   "source": [
    "for x,y in user_account.items():\n",
    "    print(x)\n",
    "    print(y)"
   ]
  },
  {
   "cell_type": "code",
   "execution_count": 6,
   "metadata": {},
   "outputs": [
    {
     "name": "stdout",
     "output_type": "stream",
     "text": [
      "key : username\n",
      "value : codetraining\n",
      "\n",
      "key : first_name\n",
      "value : code\n",
      "\n",
      "key : last_name\n",
      "value : training\n",
      "\n",
      "key : pwd\n",
      "value : 12345\n",
      "\n"
     ]
    }
   ],
   "source": [
    "for x,y in user_account.items():\n",
    "    print(f\"key : {x}\")\n",
    "    print(f\"value : {y}\\n\")"
   ]
  },
  {
   "cell_type": "code",
   "execution_count": 7,
   "metadata": {},
   "outputs": [
    {
     "name": "stdout",
     "output_type": "stream",
     "text": [
      "username : codetraining\n",
      "\n",
      "first_name : code\n",
      "\n",
      "last_name : training\n",
      "\n",
      "pwd : 12345\n",
      "\n"
     ]
    }
   ],
   "source": [
    "for x,y in user_account.items():\n",
    "    print(f\"{x} : {y}\\n\")"
   ]
  },
  {
   "cell_type": "code",
   "execution_count": 8,
   "metadata": {},
   "outputs": [
    {
     "name": "stdout",
     "output_type": "stream",
     "text": [
      "username\n",
      "first_name\n",
      "last_name\n",
      "pwd\n"
     ]
    }
   ],
   "source": [
    "for x in user_account.keys():\n",
    "    print(x)"
   ]
  },
  {
   "cell_type": "code",
   "execution_count": 9,
   "metadata": {},
   "outputs": [
    {
     "name": "stdout",
     "output_type": "stream",
     "text": [
      "codetraining\n",
      "code\n",
      "training\n",
      "12345\n"
     ]
    }
   ],
   "source": [
    "for x in user_account.values():\n",
    "    print(x)"
   ]
  },
  {
   "cell_type": "code",
   "execution_count": 10,
   "metadata": {},
   "outputs": [],
   "source": [
    "students = ['karthik','balaji','phani','deepu','ramya']"
   ]
  },
  {
   "cell_type": "code",
   "execution_count": 11,
   "metadata": {},
   "outputs": [
    {
     "name": "stdout",
     "output_type": "stream",
     "text": [
      "Karthik\n",
      "Balaji\n",
      "Phani\n",
      "Deepu\n",
      "RAMYA\n"
     ]
    }
   ],
   "source": [
    "for student in students:\n",
    "    if(student == 'ramya'):\n",
    "        print(student.upper())\n",
    "    else:\n",
    "        print(student.title())"
   ]
  },
  {
   "cell_type": "code",
   "execution_count": null,
   "metadata": {},
   "outputs": [],
   "source": []
  },
  {
   "cell_type": "code",
   "execution_count": null,
   "metadata": {},
   "outputs": [],
   "source": []
  },
  {
   "cell_type": "code",
   "execution_count": null,
   "metadata": {},
   "outputs": [],
   "source": []
  },
  {
   "cell_type": "code",
   "execution_count": null,
   "metadata": {},
   "outputs": [],
   "source": []
  },
  {
   "cell_type": "code",
   "execution_count": null,
   "metadata": {},
   "outputs": [],
   "source": []
  }
 ],
 "metadata": {
  "kernelspec": {
   "display_name": "Python 3",
   "language": "python",
   "name": "python3"
  },
  "language_info": {
   "codemirror_mode": {
    "name": "ipython",
    "version": 3
   },
   "file_extension": ".py",
   "mimetype": "text/x-python",
   "name": "python",
   "nbconvert_exporter": "python",
   "pygments_lexer": "ipython3",
   "version": "3.7.3"
  }
 },
 "nbformat": 4,
 "nbformat_minor": 2
}
