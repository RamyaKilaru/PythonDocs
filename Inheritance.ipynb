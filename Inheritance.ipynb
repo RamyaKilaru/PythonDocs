{
 "cells": [
  {
   "cell_type": "code",
   "execution_count": 1,
   "metadata": {},
   "outputs": [
    {
     "name": "stdout",
     "output_type": "stream",
     "text": [
      "Hey, I am in Dad class\n"
     ]
    }
   ],
   "source": [
    "class Dad:\n",
    "    var1 = 'Hey, I am in Dad class'\n",
    "class Child(Dad):\n",
    "    pass\n",
    "obj = Child()\n",
    "print(obj.var1)"
   ]
  },
  {
   "cell_type": "code",
   "execution_count": null,
   "metadata": {},
   "outputs": [],
   "source": []
  },
  {
   "cell_type": "code",
   "execution_count": 2,
   "metadata": {},
   "outputs": [
    {
     "name": "stdout",
     "output_type": "stream",
     "text": [
      "Hey, I am in Dad class\n",
      "Hey, I am in Mom class\n"
     ]
    }
   ],
   "source": [
    "class Dad:\n",
    "    var1 = 'Hey, I am in Dad class'\n",
    "class Mom:\n",
    "    var2 = 'Hey, I am in Mom class'\n",
    "class Child(Dad,Mom):\n",
    "    pass\n",
    "obj = Child()\n",
    "print(obj.var1)\n",
    "print(obj.var2)"
   ]
  },
  {
   "cell_type": "code",
   "execution_count": null,
   "metadata": {},
   "outputs": [],
   "source": []
  },
  {
   "cell_type": "code",
   "execution_count": 3,
   "metadata": {},
   "outputs": [
    {
     "name": "stdout",
     "output_type": "stream",
     "text": [
      "Hey, I am in Dad class\n",
      "Hey, I am in Mom class\n",
      "Hey, I am the Child of Dad & Mom\n"
     ]
    }
   ],
   "source": [
    "class Dad:\n",
    "    var1 = 'Hey, I am in Dad class'\n",
    "class Mom:\n",
    "    var2 = 'Hey, I am in Mom class'\n",
    "class Child(Dad,Mom):\n",
    "    var3 = 'Hey, I am the Child of Dad & Mom'\n",
    "obj = Child()\n",
    "print(obj.var1)\n",
    "print(obj.var2)\n",
    "print(obj.var3)"
   ]
  },
  {
   "cell_type": "code",
   "execution_count": null,
   "metadata": {},
   "outputs": [],
   "source": []
  },
  {
   "cell_type": "code",
   "execution_count": 4,
   "metadata": {},
   "outputs": [
    {
     "name": "stdout",
     "output_type": "stream",
     "text": [
      "Hey, I am in Dad class\n",
      "Hey, I am Modified\n",
      "Hey, I am the Child of Dad & Mom\n"
     ]
    }
   ],
   "source": [
    "class Dad:\n",
    "    var1 = 'Hey, I am in Dad class'\n",
    "class Mom:\n",
    "    var2 = 'Hey, I am in Mom class'\n",
    "class Child(Dad,Mom):\n",
    "    var2 = 'Hey, I am Modified'\n",
    "    var3 = 'Hey, I am the Child of Dad & Mom'\n",
    "obj = Child()\n",
    "print(obj.var1)\n",
    "print(obj.var2)\n",
    "print(obj.var3)"
   ]
  },
  {
   "cell_type": "code",
   "execution_count": null,
   "metadata": {},
   "outputs": [],
   "source": []
  },
  {
   "cell_type": "code",
   "execution_count": null,
   "metadata": {},
   "outputs": [],
   "source": []
  }
 ],
 "metadata": {
  "kernelspec": {
   "display_name": "Python 3",
   "language": "python",
   "name": "python3"
  },
  "language_info": {
   "codemirror_mode": {
    "name": "ipython",
    "version": 3
   },
   "file_extension": ".py",
   "mimetype": "text/x-python",
   "name": "python",
   "nbconvert_exporter": "python",
   "pygments_lexer": "ipython3",
   "version": "3.8.3"
  }
 },
 "nbformat": 4,
 "nbformat_minor": 4
}
