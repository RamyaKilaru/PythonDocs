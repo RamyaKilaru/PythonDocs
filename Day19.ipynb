{
 "cells": [
  {
   "cell_type": "code",
   "execution_count": 1,
   "metadata": {},
   "outputs": [],
   "source": [
    "class Dog:\n",
    "    \"\"\"Creating the Dog class\"\"\"\n",
    "    def __init__(self,name,age):\n",
    "        self.name=name\n",
    "        self.age=age\n",
    "        print(\"Attributes have been initialized\")\n",
    "    def sit(self):\n",
    "        print(f\"{self.name.title()} is now sitting\")\n",
    "    def roll_over(self):\n",
    "        print(f\"{self.name.title()} is now rollong over\")\n",
    "    def sleep(self):\n",
    "        print(f\"{self.name.title()} is now sleeping\")\n",
    "    def jump(self):\n",
    "        print(f\"{self.name.title()} is now jumping on the command\")\n",
    "    def details(self):\n",
    "        print(f\"{self.name.title()} is {self.age} years old!\")"
   ]
  },
  {
   "cell_type": "code",
   "execution_count": 2,
   "metadata": {},
   "outputs": [
    {
     "name": "stdout",
     "output_type": "stream",
     "text": [
      "Attributes have been initialized\n"
     ]
    }
   ],
   "source": [
    "obj = Dog('puppy',9)"
   ]
  },
  {
   "cell_type": "code",
   "execution_count": 3,
   "metadata": {},
   "outputs": [
    {
     "name": "stdout",
     "output_type": "stream",
     "text": [
      "Puppy is now sitting\n"
     ]
    }
   ],
   "source": [
    "obj.sit()"
   ]
  },
  {
   "cell_type": "code",
   "execution_count": 4,
   "metadata": {},
   "outputs": [
    {
     "name": "stdout",
     "output_type": "stream",
     "text": [
      "Puppy is now sitting\n",
      "Puppy is now rollong over\n",
      "Puppy is now sleeping\n",
      "Puppy is now jumping on the command\n",
      "Puppy is 9 years old!\n"
     ]
    }
   ],
   "source": [
    "obj.sit()\n",
    "obj.roll_over()\n",
    "obj.sleep()\n",
    "obj.jump()\n",
    "obj.details()"
   ]
  },
  {
   "cell_type": "code",
   "execution_count": null,
   "metadata": {},
   "outputs": [],
   "source": []
  },
  {
   "cell_type": "code",
   "execution_count": null,
   "metadata": {},
   "outputs": [],
   "source": []
  },
  {
   "cell_type": "code",
   "execution_count": null,
   "metadata": {},
   "outputs": [],
   "source": []
  }
 ],
 "metadata": {
  "kernelspec": {
   "display_name": "Python 3",
   "language": "python",
   "name": "python3"
  },
  "language_info": {
   "codemirror_mode": {
    "name": "ipython",
    "version": 3
   },
   "file_extension": ".py",
   "mimetype": "text/x-python",
   "name": "python",
   "nbconvert_exporter": "python",
   "pygments_lexer": "ipython3",
   "version": "3.7.3"
  }
 },
 "nbformat": 4,
 "nbformat_minor": 2
}
