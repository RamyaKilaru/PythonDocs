{
 "cells": [
  {
   "cell_type": "code",
   "execution_count": 3,
   "metadata": {},
   "outputs": [],
   "source": [
    "students = ['ramya','deepika','swetha','santhi','anusha','neelima','souwji']"
   ]
  },
  {
   "cell_type": "code",
   "execution_count": 4,
   "metadata": {},
   "outputs": [
    {
     "name": "stdout",
     "output_type": "stream",
     "text": [
      "['ramya', 'deepika', 'swetha', 'santhi', 'anusha', 'neelima', 'souwji']\n"
     ]
    }
   ],
   "source": [
    "print(students)"
   ]
  },
  {
   "cell_type": "code",
   "execution_count": 7,
   "metadata": {},
   "outputs": [
    {
     "name": "stdout",
     "output_type": "stream",
     "text": [
      "ramya\n",
      "deepika\n",
      "swetha\n",
      "santhi\n",
      "anusha\n",
      "neelima\n",
      "souwji\n"
     ]
    }
   ],
   "source": [
    "for student in students:\n",
    "    print(student)"
   ]
  },
  {
   "cell_type": "code",
   "execution_count": 8,
   "metadata": {},
   "outputs": [
    {
     "name": "stdout",
     "output_type": "stream",
     "text": [
      "Keep up the good work, Ramya\n",
      " I am looking forward to receive your files of today, Ramya\n",
      "Keep up the good work, Deepika\n",
      " I am looking forward to receive your files of today, Deepika\n",
      "Keep up the good work, Swetha\n",
      " I am looking forward to receive your files of today, Swetha\n",
      "Keep up the good work, Santhi\n",
      " I am looking forward to receive your files of today, Santhi\n",
      "Keep up the good work, Anusha\n",
      " I am looking forward to receive your files of today, Anusha\n",
      "Keep up the good work, Neelima\n",
      " I am looking forward to receive your files of today, Neelima\n",
      "Keep up the good work, Souwji\n",
      " I am looking forward to receive your files of today, Souwji\n"
     ]
    }
   ],
   "source": [
    "for student in students:\n",
    "    print(f\"Keep up the good work, {student.title()}\")\n",
    "    print(f\" I am looking forward to receive your files of today, {student.title()}\")"
   ]
  },
  {
   "cell_type": "code",
   "execution_count": 9,
   "metadata": {},
   "outputs": [
    {
     "name": "stdout",
     "output_type": "stream",
     "text": [
      "Keep up the good work, Ramya\n",
      " I am looking forward to receive your files of today, Ramya\n",
      "\n",
      "Keep up the good work, Deepika\n",
      " I am looking forward to receive your files of today, Deepika\n",
      "\n",
      "Keep up the good work, Swetha\n",
      " I am looking forward to receive your files of today, Swetha\n",
      "\n",
      "Keep up the good work, Santhi\n",
      " I am looking forward to receive your files of today, Santhi\n",
      "\n",
      "Keep up the good work, Anusha\n",
      " I am looking forward to receive your files of today, Anusha\n",
      "\n",
      "Keep up the good work, Neelima\n",
      " I am looking forward to receive your files of today, Neelima\n",
      "\n",
      "Keep up the good work, Souwji\n",
      " I am looking forward to receive your files of today, Souwji\n",
      "\n"
     ]
    }
   ],
   "source": [
    "for student in students:\n",
    "    print(f\"Keep up the good work, {student.title()}\")\n",
    "    print(f\" I am looking forward to receive your files of today, {student.title()}\\n\")"
   ]
  },
  {
   "cell_type": "code",
   "execution_count": 12,
   "metadata": {},
   "outputs": [
    {
     "name": "stdout",
     "output_type": "stream",
     "text": [
      "Keep up the good work, Ramya. I am looking forward to receive your files of today.\n",
      "\n",
      "Keep up the good work, Deepika. I am looking forward to receive your files of today.\n",
      "\n",
      "Keep up the good work, Swetha. I am looking forward to receive your files of today.\n",
      "\n",
      "Keep up the good work, Santhi. I am looking forward to receive your files of today.\n",
      "\n",
      "Keep up the good work, Anusha. I am looking forward to receive your files of today.\n",
      "\n",
      "Keep up the good work, Neelima. I am looking forward to receive your files of today.\n",
      "\n",
      "Keep up the good work, Souwji. I am looking forward to receive your files of today.\n",
      "\n"
     ]
    }
   ],
   "source": [
    "for student in students:\n",
    "    print(f\"Keep up the good work, {student.title()}. I am looking forward to receive your files of today.\\n\")"
   ]
  },
  {
   "cell_type": "code",
   "execution_count": 13,
   "metadata": {},
   "outputs": [
    {
     "name": "stdout",
     "output_type": "stream",
     "text": [
      "Keep up the good work, Ramya. I am looking forward to receive your files of today.\n",
      "\n",
      "Keep up the good work, Deepika. I am looking forward to receive your files of today.\n",
      "\n",
      "Keep up the good work, Swetha. I am looking forward to receive your files of today.\n",
      "\n",
      "Keep up the good work, Santhi. I am looking forward to receive your files of today.\n",
      "\n",
      "Keep up the good work, Anusha. I am looking forward to receive your files of today.\n",
      "\n",
      "Keep up the good work, Neelima. I am looking forward to receive your files of today.\n",
      "\n",
      "Keep up the good work, Souwji. I am looking forward to receive your files of today.\n",
      "\n",
      "Thank You all for joining in the python sessions.\n"
     ]
    }
   ],
   "source": [
    "for student in students:\n",
    "    print(f\"Keep up the good work, {student.title()}. I am looking forward to receive your files of today.\\n\")\n",
    "print(\"Thank You all for joining in the python sessions.\")"
   ]
  },
  {
   "cell_type": "code",
   "execution_count": 16,
   "metadata": {},
   "outputs": [],
   "source": [
    "students = ['karthik', 'balaji', 'phani', 'narendra', 'naveen', 'kalyan']"
   ]
  },
  {
   "cell_type": "code",
   "execution_count": 18,
   "metadata": {},
   "outputs": [
    {
     "name": "stdout",
     "output_type": "stream",
     "text": [
      "['karthik', 'balaji', 'phani', 'narendra', 'naveen', 'kalyan']\n"
     ]
    }
   ],
   "source": [
    "print(students)"
   ]
  },
  {
   "cell_type": "code",
   "execution_count": 19,
   "metadata": {},
   "outputs": [
    {
     "name": "stdout",
     "output_type": "stream",
     "text": [
      "KARTHIK\n",
      "Balaji\n",
      "Phani\n",
      "Narendra\n",
      "Naveen\n",
      "Kalyan\n"
     ]
    }
   ],
   "source": [
    "for x in students:\n",
    "    if x=='karthik':\n",
    "        print(x.upper())\n",
    "    else:\n",
    "        print(x.title())"
   ]
  },
  {
   "cell_type": "code",
   "execution_count": 23,
   "metadata": {
    "scrolled": true
   },
   "outputs": [
    {
     "name": "stdout",
     "output_type": "stream",
     "text": [
      "KARTHIK\n",
      "Balaji\n",
      "Phani\n",
      "NARENDRA\n",
      "Naveen\n",
      "Kalyan\n"
     ]
    }
   ],
   "source": [
    "for x in students:\n",
    "    if x=='karthik':\n",
    "        print(x.upper())\n",
    "    elif x==\"narendra\":\n",
    "        print(x.upper())\n",
    "    else:\n",
    "        print(x.title())"
   ]
  },
  {
   "cell_type": "code",
   "execution_count": 24,
   "metadata": {},
   "outputs": [],
   "source": [
    "students = ['ramya','santhi','karthik','narendra','balaji','deepika']"
   ]
  },
  {
   "cell_type": "code",
   "execution_count": 25,
   "metadata": {},
   "outputs": [
    {
     "name": "stdout",
     "output_type": "stream",
     "text": [
      "['ramya', 'santhi']\n"
     ]
    }
   ],
   "source": [
    "print(students[0:2])"
   ]
  },
  {
   "cell_type": "code",
   "execution_count": 26,
   "metadata": {},
   "outputs": [
    {
     "name": "stdout",
     "output_type": "stream",
     "text": [
      "['karthik', 'narendra']\n"
     ]
    }
   ],
   "source": [
    "print(students[2:4])"
   ]
  },
  {
   "cell_type": "code",
   "execution_count": 27,
   "metadata": {},
   "outputs": [
    {
     "name": "stdout",
     "output_type": "stream",
     "text": [
      "['balaji', 'deepika']\n"
     ]
    }
   ],
   "source": [
    "print(students[4:6])"
   ]
  },
  {
   "cell_type": "code",
   "execution_count": 28,
   "metadata": {},
   "outputs": [
    {
     "name": "stdout",
     "output_type": "stream",
     "text": [
      "['ramya', 'karthik', 'balaji']\n"
     ]
    }
   ],
   "source": [
    "print(students[0:6:2])"
   ]
  },
  {
   "cell_type": "code",
   "execution_count": 29,
   "metadata": {},
   "outputs": [
    {
     "name": "stdout",
     "output_type": "stream",
     "text": [
      "['ramya', 'narendra']\n"
     ]
    }
   ],
   "source": [
    "print(students[0:6:3])"
   ]
  },
  {
   "cell_type": "code",
   "execution_count": null,
   "metadata": {},
   "outputs": [],
   "source": []
  }
 ],
 "metadata": {
  "kernelspec": {
   "display_name": "Python 3",
   "language": "python",
   "name": "python3"
  },
  "language_info": {
   "codemirror_mode": {
    "name": "ipython",
    "version": 3
   },
   "file_extension": ".py",
   "mimetype": "text/x-python",
   "name": "python",
   "nbconvert_exporter": "python",
   "pygments_lexer": "ipython3",
   "version": "3.7.3"
  }
 },
 "nbformat": 4,
 "nbformat_minor": 2
}
